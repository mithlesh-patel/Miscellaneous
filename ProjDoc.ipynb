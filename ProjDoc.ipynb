{
 "cells": [
  {
   "cell_type": "code",
   "execution_count": null,
   "metadata": {},
   "outputs": [],
   "source": [
    "import codecs\n",
    "from bs4 import BeautifulSoup\n",
    "import glob\n",
    "htmlfile = \"/Users/mithleshpatel/Documents/ProjectDocumentation/Badoo/0A0BC8D94E8CAB7A6DC9C98C83A5D153.html\"\n",
    "htmlfileLocation = \"/Users/mithleshpatel/Documents/ProjectDocumentation/Badoo/\"\n",
    "newhtmlLocation = \"/Users/mithleshpatel/Documents/ProjectDocumentation/Badoo_New/\"\n",
    "new_location = \"/Users/mithleshpatel/Documents/ImpDocs/Images/\"\n",
    "file_count = 0\n",
    "for f in glob.glob(htmlfileLocation+\"*.html\"):\n",
    "    #print f\n",
    "    html_location_split = f.split(\"/\")\n",
    "    html_lenght = len(html_location_split)\n",
    "    html_file_name = html_location_split[html_lenght-1]\n",
    "    #print html_file_name\n",
    "    f=codecs.open(f, 'r', 'latin-1')\n",
    "    soup= BeautifulSoup(f.read())\n",
    "    for img in soup.findAll('img'):\n",
    "        image_location= img['src']\n",
    "        #print image_location\n",
    "        image_location_split = image_location.split(\"\\\\\")\n",
    "        lenght = len(image_location_split)\n",
    "        image_file_name = image_location_split[lenght-1]\n",
    "        #print image_file_name\n",
    "        new_file_location = new_location+image_file_name\n",
    "        #print new_file_location\n",
    "        img['src'] = new_file_location\n",
    "    my_html_string = str(soup)\n",
    "    #print my_html_string\n",
    "    with open(newhtmlLocation+html_file_name,\"wb\") as file:\n",
    "        file.write(my_html_string)\n",
    "    file.close()\n",
    "    file_count+=1\n",
    "\n",
    "print \"%d files have been created with new image source.\" %file_count"
   ]
  },
  {
   "cell_type": "code",
   "execution_count": null,
   "metadata": {
    "collapsed": true
   },
   "outputs": [],
   "source": []
  }
 ],
 "metadata": {
  "kernelspec": {
   "display_name": "Python 2",
   "language": "python",
   "name": "python2"
  },
  "language_info": {
   "codemirror_mode": {
    "name": "ipython",
    "version": 2
   },
   "file_extension": ".py",
   "mimetype": "text/x-python",
   "name": "python",
   "nbconvert_exporter": "python",
   "pygments_lexer": "ipython2",
   "version": "2.7.14"
  }
 },
 "nbformat": 4,
 "nbformat_minor": 2
}
