{
 "cells": [
  {
   "cell_type": "code",
   "execution_count": 10,
   "metadata": {},
   "outputs": [
    {
     "name": "stdout",
     "output_type": "stream",
     "text": [
      "True\n",
      "/\n",
      "c\n",
      "Folder Name  /Users/mithleshpatel/anaconda2/zipzap/Data_File/ProjDoc/\n"
     ]
    }
   ],
   "source": [
    "#!/usr/bin/python\n",
    "# import modules used here -- sys is a very standard one\n",
    "import sys\n",
    "import glob\n",
    "import os\n",
    "\n",
    "def main():\n",
    "    destinationFile = None\n",
    "    lineNumberDeleteFrom = 74\n",
    "    foldername = \"/Users/mithleshpatel/anaconda2/zipzap/Data_File/ProjDoc\"\n",
    "    \n",
    "    #foldername = 'C:\\Project Documentation\\Project Documentation\\Finance DM DEV (20160105095546)'\n",
    "    print os.sep != foldername[len(foldername)-1]\n",
    "    print os.sep\n",
    "    print foldername[len(foldername)-1]\n",
    "    if os.sep != foldername[len(foldername)-1]:\n",
    "        foldername += os.sep\n",
    "        print 'Folder Name ',foldername\n",
    "    foldername += '*'\n",
    "    for fname in glob.glob(foldername):\n",
    "        filenumbers = fname.split('_')\n",
    "        print 'File Name '+fname\n",
    "        if len(filenumbers) > 1:\n",
    "            print 'Length of filenumber ',len(filenumbers)\n",
    "            print filenumbers\n",
    "            print filenumbers[1]\n",
    "            if filenumbers[1] == '1.html':\n",
    "               destinationFile = fname\n",
    "            else:\n",
    "                #print 'Not 1 but ',filenumbers[1]\n",
    "                #Loop Through file and concat into Destination File\n",
    "                with open(destinationFile,'r+') as outfile:\n",
    "                    outlines = outfile.readlines()\n",
    "                    del outlines[len(outlines)-5:len(outlines)]\n",
    "                    outfile.truncate()\n",
    "                    outfile.close()\n",
    "                    with open(destinationFile,'w') as outfile:\n",
    "                        with open(fname,'r') as infile:\n",
    "                            linenumber = 0\n",
    "                            inlines = infile.readlines()\n",
    "                            for line in inlines:\n",
    "                                #print linenumber,line\n",
    "                                if '<!---------- [Current Folder] ---------->' in line:\n",
    "                                    lineNumberDeleteFrom = linenumber\n",
    "                                    print 'True and line is ',linenumber\n",
    "                                    print 'Line +1',inlines[linenumber+1]\n",
    "                                    print 'Line +2',inlines[linenumber+2]\n",
    "                                    print 'Line +3',inlines[linenumber+3]\n",
    "                                    print 'Line +4',inlines[linenumber+4]\n",
    "                                    print 'Line +5',inlines[linenumber+5]\n",
    "                                    print 'Line +6',inlines[linenumber+6]\n",
    "                                    print 'Line +7',inlines[linenumber+7]\n",
    "                                    print 'Line +8',inlines[linenumber+8]\n",
    "                                    print 'Line +9',inlines[linenumber+9]\n",
    "                                    linenumber = linenumber+1\n",
    "                                    #inlines = infile.readlines()\n",
    "                            del inlines[0:lineNumberDeleteFrom+9]\n",
    "                            #print \"Lines to be deleted = \",lineNumberDeleteFrom\n",
    "                            #print \"First Line of inFile \",inlines[0]\n",
    "                            #print \"Length Input file \",len(inlines)\n",
    "                            #print \"Length Output file \",len(outlines)\n",
    "                            outfile.writelines(outlines)\n",
    "                            outfile.writelines(inlines)\n",
    "                            infile.close()\n",
    "                        outfile.close()\n",
    "\n",
    "# Standard boilerplate to call the main() function to begin\n",
    "# the program.\n",
    "if __name__ == '__main__':\n",
    "    main()\n"
   ]
  },
  {
   "cell_type": "code",
   "execution_count": null,
   "metadata": {
    "collapsed": true
   },
   "outputs": [],
   "source": []
  }
 ],
 "metadata": {
  "kernelspec": {
   "display_name": "Python 2",
   "language": "python",
   "name": "python2"
  },
  "language_info": {
   "codemirror_mode": {
    "name": "ipython",
    "version": 2
   },
   "file_extension": ".py",
   "mimetype": "text/x-python",
   "name": "python",
   "nbconvert_exporter": "python",
   "pygments_lexer": "ipython2",
   "version": "2.7.14"
  }
 },
 "nbformat": 4,
 "nbformat_minor": 2
}
