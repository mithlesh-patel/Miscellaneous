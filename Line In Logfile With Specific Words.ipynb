{
 "cells": [
  {
   "cell_type": "code",
   "execution_count": 4,
   "metadata": {
    "collapsed": true
   },
   "outputs": [],
   "source": [
    "import pandas as pd\n",
    "location='/Users/mithleshpatel/Documents/Command Manager/'\n"
   ]
  },
  {
   "cell_type": "code",
   "execution_count": 12,
   "metadata": {},
   "outputs": [
    {
     "name": "stdout",
     "output_type": "stream",
     "text": [
      "267 objects have not been removed from profile folders.\n"
     ]
    }
   ],
   "source": [
    "with open(location+'CmdMgrFail.log') as f:\n",
    "    content = f.readlines()\n",
    "# remove whitespace characters like '\\n' at the end of each line\n",
    "objects_deleted = 0\n",
    "content = [x.strip() for x in content]\n",
    "with open(location+\"Objects_Cannot_Be_Deleted.txt\",\"a\") as my_file:\n",
    "    for line in content:\n",
    "        if \"cannot be deleted\" in line:\n",
    "            objects_deleted += 1\n",
    "            my_file.write(line+'\\n')\n",
    "my_file.close()\n",
    "print \"%d objects have not been removed from profile folders.\" %objects_deleted"
   ]
  },
  {
   "cell_type": "code",
   "execution_count": null,
   "metadata": {
    "collapsed": true
   },
   "outputs": [],
   "source": []
  }
 ],
 "metadata": {
  "kernelspec": {
   "display_name": "Python 2",
   "language": "python",
   "name": "python2"
  },
  "language_info": {
   "codemirror_mode": {
    "name": "ipython",
    "version": 2
   },
   "file_extension": ".py",
   "mimetype": "text/x-python",
   "name": "python",
   "nbconvert_exporter": "python",
   "pygments_lexer": "ipython2",
   "version": "2.7.14"
  }
 },
 "nbformat": 4,
 "nbformat_minor": 2
}
