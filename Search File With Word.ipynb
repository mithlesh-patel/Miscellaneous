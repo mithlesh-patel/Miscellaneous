{
 "cells": [
  {
   "cell_type": "code",
   "execution_count": 25,
   "metadata": {},
   "outputs": [
    {
     "name": "stdout",
     "output_type": "stream",
     "text": [
      "/Users/mithleshpatel/anaconda2/zipzap/Natural Language Processing.ipynb\n",
      "/Users/mithleshpatel/anaconda2/zipzap/Senior DS.ipynb\n",
      "/Users/mithleshpatel/anaconda2/zipzap/Untitled1.ipynb\n"
     ]
    }
   ],
   "source": [
    "\n",
    "import glob\n",
    "location='/Users/mithleshpatel/anaconda2/zipzap/'\n",
    "blabla = 'Pipeline'\n",
    "for f in glob.glob(location+\"*.ipynb\"):\n",
    "    if (open(f, 'r').read().find(\"Pipeline\")) > 0:\n",
    "        print f\n"
   ]
  },
  {
   "cell_type": "code",
   "execution_count": null,
   "metadata": {
    "collapsed": true
   },
   "outputs": [],
   "source": []
  }
 ],
 "metadata": {
  "kernelspec": {
   "display_name": "Python 2",
   "language": "python",
   "name": "python2"
  },
  "language_info": {
   "codemirror_mode": {
    "name": "ipython",
    "version": 2
   },
   "file_extension": ".py",
   "mimetype": "text/x-python",
   "name": "python",
   "nbconvert_exporter": "python",
   "pygments_lexer": "ipython2",
   "version": "2.7.14"
  }
 },
 "nbformat": 4,
 "nbformat_minor": 2
}
