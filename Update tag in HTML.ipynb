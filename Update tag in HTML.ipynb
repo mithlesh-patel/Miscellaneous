{
 "cells": [
  {
   "cell_type": "code",
   "execution_count": null,
   "metadata": {},
   "outputs": [
    {
     "name": "stderr",
     "output_type": "stream",
     "text": [
      "/Users/mithleshpatel/anaconda2/lib/python2.7/site-packages/bs4/__init__.py:181: UserWarning: No parser was explicitly specified, so I'm using the best available HTML parser for this system (\"lxml\"). This usually isn't a problem, but if you run this code on another system, or in a different virtual environment, it may use a different parser and behave differently.\n",
      "\n",
      "The code that caused this warning is on line 174 of the file /Users/mithleshpatel/anaconda2/lib/python2.7/runpy.py. To get rid of this warning, change code that looks like this:\n",
      "\n",
      " BeautifulSoup(YOUR_MARKUP})\n",
      "\n",
      "to this:\n",
      "\n",
      " BeautifulSoup(YOUR_MARKUP, \"lxml\")\n",
      "\n",
      "  markup_type=markup_type))\n"
     ]
    }
   ],
   "source": [
    "import codecs\n",
    "from bs4 import BeautifulSoup\n",
    "import glob\n",
    "htmlfileLocation = \"/Users/mithleshpatel/Documents/ProjectDocumentation/Badoo BI (20180126154030)/\"\n",
    "newhtmlLocation = \"/Users/mithleshpatel/Documents/ProjectDocumentation/Badoo/\"\n",
    "new_image_location = \"/Users/mithleshpatel/Documents/ImpDocs/Images/\"\n",
    "file_count = 0\n",
    "for f in glob.glob(htmlfileLocation+\"*.html\"):\n",
    "    html_location_split = f.split(\"/\")\n",
    "    html_lenght = len(html_location_split)\n",
    "    html_file_name = html_location_split[html_lenght-1]\n",
    "    f=codecs.open(f, 'r', 'latin-1')\n",
    "    soup= BeautifulSoup(f.read(),\"lxml\")\n",
    "    for img in soup.findAll('img'):\n",
    "        image_location= img['src']\n",
    "        image_location_split = image_location.split(\"\\\\\")\n",
    "        lenght = len(image_location_split)\n",
    "        image_file_name = image_location_split[lenght-1]\n",
    "        new_file_location = new_image_location+image_file_name\n",
    "        img['src'] = new_file_location\n",
    "    my_html_string = str(soup)\n",
    "    \n",
    "    with open(newhtmlLocation+html_file_name,\"wb\") as file:\n",
    "        file.write(my_html_string)\n",
    "    file.close()\n",
    "    file_count+=1\n",
    "\n",
    "print \"%d files have been created with new image source.\" %file_count"
   ]
  },
  {
   "cell_type": "code",
   "execution_count": null,
   "metadata": {
    "collapsed": true
   },
   "outputs": [],
   "source": []
  }
 ],
 "metadata": {
  "kernelspec": {
   "display_name": "Python 2",
   "language": "python",
   "name": "python2"
  },
  "language_info": {
   "codemirror_mode": {
    "name": "ipython",
    "version": 2
   },
   "file_extension": ".py",
   "mimetype": "text/x-python",
   "name": "python",
   "nbconvert_exporter": "python",
   "pygments_lexer": "ipython2",
   "version": "2.7.14"
  }
 },
 "nbformat": 4,
 "nbformat_minor": 2
}
