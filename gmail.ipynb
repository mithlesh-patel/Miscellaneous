{
 "cells": [
  {
   "cell_type": "code",
   "execution_count": 7,
   "metadata": {
    "collapsed": true
   },
   "outputs": [],
   "source": [
    "import sys\n",
    "import imaplib\n",
    "import getpass\n",
    "import email\n",
    "import datetime\n",
    "\n",
    "M = imaplib.IMAP4_SSL('imap.gmail.com')"
   ]
  },
  {
   "cell_type": "code",
   "execution_count": 4,
   "metadata": {
    "collapsed": true
   },
   "outputs": [],
   "source": [
    "ORG_EMAIL   = \"@gmail.com\"\n",
    "FROM_EMAIL  = \"mithlesh.patel\" + ORG_EMAIL\n",
    "FROM_PWD    = \"Unloadedcell5#\"\n",
    "SMTP_SERVER = \"imap.gmail.com\"\n",
    "SMTP_PORT   = 993"
   ]
  },
  {
   "cell_type": "code",
   "execution_count": 10,
   "metadata": {},
   "outputs": [
    {
     "name": "stdout",
     "output_type": "stream",
     "text": [
      "········\n",
      "LOGIN FAILED!!! \n"
     ]
    }
   ],
   "source": [
    "try:\n",
    "    M.login('mithlesh.patel@corp.badoo.com', getpass.getpass())\n",
    "except imaplib.IMAP4.error:\n",
    "    print \"LOGIN FAILED!!! \""
   ]
  },
  {
   "cell_type": "code",
   "execution_count": null,
   "metadata": {
    "collapsed": true
   },
   "outputs": [],
   "source": []
  }
 ],
 "metadata": {
  "kernelspec": {
   "display_name": "Python 2",
   "language": "python",
   "name": "python2"
  },
  "language_info": {
   "codemirror_mode": {
    "name": "ipython",
    "version": 2
   },
   "file_extension": ".py",
   "mimetype": "text/x-python",
   "name": "python",
   "nbconvert_exporter": "python",
   "pygments_lexer": "ipython2",
   "version": "2.7.14"
  }
 },
 "nbformat": 4,
 "nbformat_minor": 2
}
