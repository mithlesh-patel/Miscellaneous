{
 "cells": [
  {
   "cell_type": "code",
   "execution_count": 158,
   "metadata": {},
   "outputs": [],
   "source": [
    "import pandas as pd\n",
    "location='/Users/mithleshpatel/anaconda2/zipzap/Data_File/Badoo senior data scientist test/'"
   ]
  },
  {
   "cell_type": "code",
   "execution_count": 159,
   "metadata": {
    "collapsed": true
   },
   "outputs": [],
   "source": [
    "# Import dataset\n",
    "df = pd.read_csv(location+'paula_ratings.csv.bz2', parse_dates=['date_of_birth', 'date_of_registration'])"
   ]
  },
  {
   "cell_type": "code",
   "execution_count": 160,
   "metadata": {},
   "outputs": [
    {
     "name": "stdout",
     "output_type": "stream",
     "text": [
      "<class 'pandas.core.frame.DataFrame'>\n",
      "RangeIndex: 100001 entries, 0 to 100000\n",
      "Data columns (total 7 columns):\n",
      "name                    100001 non-null object\n",
      "date_of_birth           100001 non-null datetime64[ns]\n",
      "date_of_registration    100001 non-null datetime64[ns]\n",
      "job                     50587 non-null object\n",
      "height                  100001 non-null int64\n",
      "profile_popularity      100001 non-null int64\n",
      "liked                   100001 non-null int64\n",
      "dtypes: datetime64[ns](2), int64(3), object(2)\n",
      "memory usage: 5.3+ MB\n"
     ]
    }
   ],
   "source": [
    "# Analyse dataset\n",
    "df.info()"
   ]
  },
  {
   "cell_type": "code",
   "execution_count": 161,
   "metadata": {},
   "outputs": [
    {
     "data": {
      "text/html": [
       "<div>\n",
       "<style>\n",
       "    .dataframe thead tr:only-child th {\n",
       "        text-align: right;\n",
       "    }\n",
       "\n",
       "    .dataframe thead th {\n",
       "        text-align: left;\n",
       "    }\n",
       "\n",
       "    .dataframe tbody tr th {\n",
       "        vertical-align: top;\n",
       "    }\n",
       "</style>\n",
       "<table border=\"1\" class=\"dataframe\">\n",
       "  <thead>\n",
       "    <tr style=\"text-align: right;\">\n",
       "      <th></th>\n",
       "      <th>name</th>\n",
       "      <th>date_of_birth</th>\n",
       "      <th>date_of_registration</th>\n",
       "      <th>job</th>\n",
       "      <th>height</th>\n",
       "      <th>profile_popularity</th>\n",
       "      <th>liked</th>\n",
       "    </tr>\n",
       "  </thead>\n",
       "  <tbody>\n",
       "    <tr>\n",
       "      <th>0</th>\n",
       "      <td>Colton</td>\n",
       "      <td>1991-09-15</td>\n",
       "      <td>2017-09-16</td>\n",
       "      <td>author</td>\n",
       "      <td>179</td>\n",
       "      <td>0</td>\n",
       "      <td>1</td>\n",
       "    </tr>\n",
       "    <tr>\n",
       "      <th>1</th>\n",
       "      <td>Shaun</td>\n",
       "      <td>1993-01-11</td>\n",
       "      <td>2016-03-10</td>\n",
       "      <td>NaN</td>\n",
       "      <td>166</td>\n",
       "      <td>0</td>\n",
       "      <td>1</td>\n",
       "    </tr>\n",
       "    <tr>\n",
       "      <th>2</th>\n",
       "      <td>Emanuel</td>\n",
       "      <td>1995-01-04</td>\n",
       "      <td>2017-10-09</td>\n",
       "      <td>NaN</td>\n",
       "      <td>175</td>\n",
       "      <td>1</td>\n",
       "      <td>1</td>\n",
       "    </tr>\n",
       "    <tr>\n",
       "      <th>3</th>\n",
       "      <td>Demetrius</td>\n",
       "      <td>1992-06-06</td>\n",
       "      <td>2016-07-09</td>\n",
       "      <td>NaN</td>\n",
       "      <td>173</td>\n",
       "      <td>3</td>\n",
       "      <td>0</td>\n",
       "    </tr>\n",
       "    <tr>\n",
       "      <th>4</th>\n",
       "      <td>Dominick</td>\n",
       "      <td>1993-04-28</td>\n",
       "      <td>2017-03-10</td>\n",
       "      <td>air steward</td>\n",
       "      <td>177</td>\n",
       "      <td>4</td>\n",
       "      <td>1</td>\n",
       "    </tr>\n",
       "  </tbody>\n",
       "</table>\n",
       "</div>"
      ],
      "text/plain": [
       "        name date_of_birth date_of_registration          job  height  \\\n",
       "0     Colton    1991-09-15           2017-09-16       author     179   \n",
       "1      Shaun    1993-01-11           2016-03-10          NaN     166   \n",
       "2    Emanuel    1995-01-04           2017-10-09          NaN     175   \n",
       "3  Demetrius    1992-06-06           2016-07-09          NaN     173   \n",
       "4   Dominick    1993-04-28           2017-03-10  air steward     177   \n",
       "\n",
       "   profile_popularity  liked  \n",
       "0                   0      1  \n",
       "1                   0      1  \n",
       "2                   1      1  \n",
       "3                   3      0  \n",
       "4                   4      1  "
      ]
     },
     "execution_count": 161,
     "metadata": {},
     "output_type": "execute_result"
    }
   ],
   "source": [
    "# Checking sample data\n",
    "df.head()"
   ]
  },
  {
   "cell_type": "code",
   "execution_count": 162,
   "metadata": {},
   "outputs": [],
   "source": [
    "# Sice dates may bot be a better choice as features, converting those to numeric values by subsctracting from current date\n",
    "from datetime import datetime\n",
    "now = datetime.now()\n",
    "df['Age'] = (now - df['date_of_birth']).dt.days\n",
    "df['Time_In_Badoo'] = (now - df['date_of_registration']).dt.days"
   ]
  },
  {
   "cell_type": "code",
   "execution_count": 163,
   "metadata": {},
   "outputs": [
    {
     "data": {
      "text/html": [
       "<div>\n",
       "<style>\n",
       "    .dataframe thead tr:only-child th {\n",
       "        text-align: right;\n",
       "    }\n",
       "\n",
       "    .dataframe thead th {\n",
       "        text-align: left;\n",
       "    }\n",
       "\n",
       "    .dataframe tbody tr th {\n",
       "        vertical-align: top;\n",
       "    }\n",
       "</style>\n",
       "<table border=\"1\" class=\"dataframe\">\n",
       "  <thead>\n",
       "    <tr style=\"text-align: right;\">\n",
       "      <th></th>\n",
       "      <th>name</th>\n",
       "      <th>date_of_birth</th>\n",
       "      <th>date_of_registration</th>\n",
       "      <th>job</th>\n",
       "      <th>height</th>\n",
       "      <th>profile_popularity</th>\n",
       "      <th>liked</th>\n",
       "      <th>Age</th>\n",
       "      <th>Time_In_Badoo</th>\n",
       "    </tr>\n",
       "  </thead>\n",
       "  <tbody>\n",
       "    <tr>\n",
       "      <th>0</th>\n",
       "      <td>Colton</td>\n",
       "      <td>1991-09-15</td>\n",
       "      <td>2017-09-16</td>\n",
       "      <td>author</td>\n",
       "      <td>179</td>\n",
       "      <td>0</td>\n",
       "      <td>1</td>\n",
       "      <td>9622</td>\n",
       "      <td>124</td>\n",
       "    </tr>\n",
       "    <tr>\n",
       "      <th>1</th>\n",
       "      <td>Shaun</td>\n",
       "      <td>1993-01-11</td>\n",
       "      <td>2016-03-10</td>\n",
       "      <td>NaN</td>\n",
       "      <td>166</td>\n",
       "      <td>0</td>\n",
       "      <td>1</td>\n",
       "      <td>9138</td>\n",
       "      <td>679</td>\n",
       "    </tr>\n",
       "    <tr>\n",
       "      <th>2</th>\n",
       "      <td>Emanuel</td>\n",
       "      <td>1995-01-04</td>\n",
       "      <td>2017-10-09</td>\n",
       "      <td>NaN</td>\n",
       "      <td>175</td>\n",
       "      <td>1</td>\n",
       "      <td>1</td>\n",
       "      <td>8415</td>\n",
       "      <td>101</td>\n",
       "    </tr>\n",
       "    <tr>\n",
       "      <th>3</th>\n",
       "      <td>Demetrius</td>\n",
       "      <td>1992-06-06</td>\n",
       "      <td>2016-07-09</td>\n",
       "      <td>NaN</td>\n",
       "      <td>173</td>\n",
       "      <td>3</td>\n",
       "      <td>0</td>\n",
       "      <td>9357</td>\n",
       "      <td>558</td>\n",
       "    </tr>\n",
       "    <tr>\n",
       "      <th>4</th>\n",
       "      <td>Dominick</td>\n",
       "      <td>1993-04-28</td>\n",
       "      <td>2017-03-10</td>\n",
       "      <td>air steward</td>\n",
       "      <td>177</td>\n",
       "      <td>4</td>\n",
       "      <td>1</td>\n",
       "      <td>9031</td>\n",
       "      <td>314</td>\n",
       "    </tr>\n",
       "  </tbody>\n",
       "</table>\n",
       "</div>"
      ],
      "text/plain": [
       "        name date_of_birth date_of_registration          job  height  \\\n",
       "0     Colton    1991-09-15           2017-09-16       author     179   \n",
       "1      Shaun    1993-01-11           2016-03-10          NaN     166   \n",
       "2    Emanuel    1995-01-04           2017-10-09          NaN     175   \n",
       "3  Demetrius    1992-06-06           2016-07-09          NaN     173   \n",
       "4   Dominick    1993-04-28           2017-03-10  air steward     177   \n",
       "\n",
       "   profile_popularity  liked   Age  Time_In_Badoo  \n",
       "0                   0      1  9622            124  \n",
       "1                   0      1  9138            679  \n",
       "2                   1      1  8415            101  \n",
       "3                   3      0  9357            558  \n",
       "4                   4      1  9031            314  "
      ]
     },
     "execution_count": 163,
     "metadata": {},
     "output_type": "execute_result"
    }
   ],
   "source": [
    "# Check whether columns have been created in dataframe\n",
    "df.head()"
   ]
  },
  {
   "cell_type": "code",
   "execution_count": 164,
   "metadata": {
    "collapsed": true
   },
   "outputs": [],
   "source": [
    "# Thre seems some missing values filling by 0\n",
    "df['job'] = df['job'].fillna(value=0)"
   ]
  },
  {
   "cell_type": "code",
   "execution_count": 165,
   "metadata": {},
   "outputs": [],
   "source": [
    "# Job seems a good feature but needs to be converted into numbers, check how many distinct jobs DF has\n",
    "jobs=df['job'].unique()"
   ]
  },
  {
   "cell_type": "code",
   "execution_count": 166,
   "metadata": {},
   "outputs": [],
   "source": [
    "# Try analysing general behaviour of data\n",
    "import seaborn as sns"
   ]
  },
  {
   "cell_type": "code",
   "execution_count": 167,
   "metadata": {},
   "outputs": [],
   "source": [
    "\n",
    "import matplotlib.pyplot as plt\n",
    "%matplotlib inline\n",
    "sns.set_style('whitegrid')\n"
   ]
  },
  {
   "cell_type": "code",
   "execution_count": 168,
   "metadata": {},
   "outputs": [],
   "source": [
    "import numpy as np\n",
    "# Converting age into years from days\n",
    "df['Age_Months'] = df['Age']/30\n",
    "#sns.boxplot(x=df['liked'],y=df['Age'],data=df,whis=np.inf)\n",
    "df['Age_Years'] = df['Age_Months']/12\n"
   ]
  },
  {
   "cell_type": "code",
   "execution_count": 169,
   "metadata": {},
   "outputs": [
    {
     "data": {
      "text/plain": [
       "<matplotlib.axes._subplots.AxesSubplot at 0x1a22773890>"
      ]
     },
     "execution_count": 169,
     "metadata": {},
     "output_type": "execute_result"
    },
    {
     "data": {
      "image/png": "[encoded data removed]",
      "text/plain": [
       "<matplotlib.figure.Figure at 0x1a22fe1350>"
      ]
     },
     "metadata": {},
     "output_type": "display_data"
    }
   ],
   "source": [
    "sns.boxplot(x=df['liked'],y=df['Age_Years'],data=df,whis=np.inf)\n",
    "# It seems younger people mostly performed activity."
   ]
  },
  {
   "cell_type": "code",
   "execution_count": 253,
   "metadata": {},
   "outputs": [
    {
     "data": {
      "text/plain": [
       "Text(0.5,1,u'By Age')"
      ]
     },
     "execution_count": 253,
     "metadata": {},
     "output_type": "execute_result"
    },
    {
     "data": {
      "image/png": "[encoded data removed]",
      "text/plain": [
       "<matplotlib.figure.Figure at 0x1a24cfc510>"
      ]
     },
     "metadata": {},
     "output_type": "display_data"
    }
   ],
   "source": [
    "sns.violinplot(x=df['liked'],y=df['Age_Years'],data=df,whis=np.inf)\n",
    "plt.title('By Age')"
   ]
  },
  {
   "cell_type": "code",
   "execution_count": 259,
   "metadata": {},
   "outputs": [
    {
     "data": {
      "text/html": [
       "<div>\n",
       "<style>\n",
       "    .dataframe thead tr:only-child th {\n",
       "        text-align: right;\n",
       "    }\n",
       "\n",
       "    .dataframe thead th {\n",
       "        text-align: left;\n",
       "    }\n",
       "\n",
       "    .dataframe tbody tr th {\n",
       "        vertical-align: top;\n",
       "    }\n",
       "</style>\n",
       "<table border=\"1\" class=\"dataframe\">\n",
       "  <thead>\n",
       "    <tr style=\"text-align: right;\">\n",
       "      <th></th>\n",
       "      <th>name</th>\n",
       "      <th>date_of_birth</th>\n",
       "      <th>date_of_registration</th>\n",
       "      <th>job</th>\n",
       "      <th>height</th>\n",
       "      <th>profile_popularity</th>\n",
       "      <th>liked</th>\n",
       "      <th>Age</th>\n",
       "      <th>Time_In_Badoo</th>\n",
       "      <th>Age_Months</th>\n",
       "      <th>Age_Years</th>\n",
       "      <th>job_ID</th>\n",
       "    </tr>\n",
       "  </thead>\n",
       "  <tbody>\n",
       "    <tr>\n",
       "      <th>0</th>\n",
       "      <td>Colton</td>\n",
       "      <td>1991-09-15</td>\n",
       "      <td>2017-09-16</td>\n",
       "      <td>author</td>\n",
       "      <td>179</td>\n",
       "      <td>0</td>\n",
       "      <td>1</td>\n",
       "      <td>9622</td>\n",
       "      <td>124</td>\n",
       "      <td>320.733333</td>\n",
       "      <td>26.727778</td>\n",
       "      <td>9</td>\n",
       "    </tr>\n",
       "    <tr>\n",
       "      <th>1</th>\n",
       "      <td>Shaun</td>\n",
       "      <td>1993-01-11</td>\n",
       "      <td>2016-03-10</td>\n",
       "      <td>0</td>\n",
       "      <td>166</td>\n",
       "      <td>0</td>\n",
       "      <td>1</td>\n",
       "      <td>9138</td>\n",
       "      <td>679</td>\n",
       "      <td>304.600000</td>\n",
       "      <td>25.383333</td>\n",
       "      <td>0</td>\n",
       "    </tr>\n",
       "    <tr>\n",
       "      <th>2</th>\n",
       "      <td>Emanuel</td>\n",
       "      <td>1995-01-04</td>\n",
       "      <td>2017-10-09</td>\n",
       "      <td>0</td>\n",
       "      <td>175</td>\n",
       "      <td>1</td>\n",
       "      <td>1</td>\n",
       "      <td>8415</td>\n",
       "      <td>101</td>\n",
       "      <td>280.500000</td>\n",
       "      <td>23.375000</td>\n",
       "      <td>0</td>\n",
       "    </tr>\n",
       "    <tr>\n",
       "      <th>3</th>\n",
       "      <td>Demetrius</td>\n",
       "      <td>1992-06-06</td>\n",
       "      <td>2016-07-09</td>\n",
       "      <td>0</td>\n",
       "      <td>173</td>\n",
       "      <td>3</td>\n",
       "      <td>0</td>\n",
       "      <td>9357</td>\n",
       "      <td>558</td>\n",
       "      <td>311.900000</td>\n",
       "      <td>25.991667</td>\n",
       "      <td>0</td>\n",
       "    </tr>\n",
       "    <tr>\n",
       "      <th>4</th>\n",
       "      <td>Dominick</td>\n",
       "      <td>1993-04-28</td>\n",
       "      <td>2017-03-10</td>\n",
       "      <td>air steward</td>\n",
       "      <td>177</td>\n",
       "      <td>4</td>\n",
       "      <td>1</td>\n",
       "      <td>9031</td>\n",
       "      <td>314</td>\n",
       "      <td>301.033333</td>\n",
       "      <td>25.086111</td>\n",
       "      <td>5</td>\n",
       "    </tr>\n",
       "  </tbody>\n",
       "</table>\n",
       "</div>"
      ],
      "text/plain": [
       "        name date_of_birth date_of_registration          job  height  \\\n",
       "0     Colton    1991-09-15           2017-09-16       author     179   \n",
       "1      Shaun    1993-01-11           2016-03-10            0     166   \n",
       "2    Emanuel    1995-01-04           2017-10-09            0     175   \n",
       "3  Demetrius    1992-06-06           2016-07-09            0     173   \n",
       "4   Dominick    1993-04-28           2017-03-10  air steward     177   \n",
       "\n",
       "   profile_popularity  liked   Age  Time_In_Badoo  Age_Months  Age_Years  \\\n",
       "0                   0      1  9622            124  320.733333  26.727778   \n",
       "1                   0      1  9138            679  304.600000  25.383333   \n",
       "2                   1      1  8415            101  280.500000  23.375000   \n",
       "3                   3      0  9357            558  311.900000  25.991667   \n",
       "4                   4      1  9031            314  301.033333  25.086111   \n",
       "\n",
       "   job_ID  \n",
       "0       9  \n",
       "1       0  \n",
       "2       0  \n",
       "3       0  \n",
       "4       5  "
      ]
     },
     "execution_count": 259,
     "metadata": {},
     "output_type": "execute_result"
    }
   ],
   "source": [
    "# remove outliers\n",
    "df = df[(df['Age_Years'] <= 30) & (df['Age_Years'] >= 20)]\n",
    "df.head()"
   ]
  },
  {
   "cell_type": "code",
   "execution_count": 254,
   "metadata": {},
   "outputs": [
    {
     "data": {
      "text/plain": [
       "Text(0.5,1,u'By Time In Badoo')"
      ]
     },
     "execution_count": 254,
     "metadata": {},
     "output_type": "execute_result"
    },
    {
     "data": {
      "image/png": "[encoded data removed]",
      "text/plain": [
       "<matplotlib.figure.Figure at 0x1a22fed190>"
      ]
     },
     "metadata": {},
     "output_type": "display_data"
    }
   ],
   "source": [
    "sns.violinplot(x=df['liked'],y=df['Time_In_Badoo'],data=df,whis=np.inf)\n",
    "plt.title('By Time In Badoo')\n",
    "# It seems people recently joined have performed most of the activity in rating or not rating Paula's profile "
   ]
  },
  {
   "cell_type": "code",
   "execution_count": 261,
   "metadata": {},
   "outputs": [
    {
     "data": {
      "text/html": [
       "<div>\n",
       "<style>\n",
       "    .dataframe thead tr:only-child th {\n",
       "        text-align: right;\n",
       "    }\n",
       "\n",
       "    .dataframe thead th {\n",
       "        text-align: left;\n",
       "    }\n",
       "\n",
       "    .dataframe tbody tr th {\n",
       "        vertical-align: top;\n",
       "    }\n",
       "</style>\n",
       "<table border=\"1\" class=\"dataframe\">\n",
       "  <thead>\n",
       "    <tr style=\"text-align: right;\">\n",
       "      <th></th>\n",
       "      <th>name</th>\n",
       "      <th>date_of_birth</th>\n",
       "      <th>date_of_registration</th>\n",
       "      <th>job</th>\n",
       "      <th>height</th>\n",
       "      <th>profile_popularity</th>\n",
       "      <th>liked</th>\n",
       "      <th>Age</th>\n",
       "      <th>Time_In_Badoo</th>\n",
       "      <th>Age_Months</th>\n",
       "      <th>Age_Years</th>\n",
       "      <th>job_ID</th>\n",
       "    </tr>\n",
       "  </thead>\n",
       "  <tbody>\n",
       "    <tr>\n",
       "      <th>0</th>\n",
       "      <td>Colton</td>\n",
       "      <td>1991-09-15</td>\n",
       "      <td>2017-09-16</td>\n",
       "      <td>author</td>\n",
       "      <td>179</td>\n",
       "      <td>0</td>\n",
       "      <td>1</td>\n",
       "      <td>9622</td>\n",
       "      <td>124</td>\n",
       "      <td>320.733333</td>\n",
       "      <td>26.727778</td>\n",
       "      <td>9</td>\n",
       "    </tr>\n",
       "    <tr>\n",
       "      <th>1</th>\n",
       "      <td>Shaun</td>\n",
       "      <td>1993-01-11</td>\n",
       "      <td>2016-03-10</td>\n",
       "      <td>0</td>\n",
       "      <td>166</td>\n",
       "      <td>0</td>\n",
       "      <td>1</td>\n",
       "      <td>9138</td>\n",
       "      <td>679</td>\n",
       "      <td>304.600000</td>\n",
       "      <td>25.383333</td>\n",
       "      <td>0</td>\n",
       "    </tr>\n",
       "    <tr>\n",
       "      <th>2</th>\n",
       "      <td>Emanuel</td>\n",
       "      <td>1995-01-04</td>\n",
       "      <td>2017-10-09</td>\n",
       "      <td>0</td>\n",
       "      <td>175</td>\n",
       "      <td>1</td>\n",
       "      <td>1</td>\n",
       "      <td>8415</td>\n",
       "      <td>101</td>\n",
       "      <td>280.500000</td>\n",
       "      <td>23.375000</td>\n",
       "      <td>0</td>\n",
       "    </tr>\n",
       "    <tr>\n",
       "      <th>3</th>\n",
       "      <td>Demetrius</td>\n",
       "      <td>1992-06-06</td>\n",
       "      <td>2016-07-09</td>\n",
       "      <td>0</td>\n",
       "      <td>173</td>\n",
       "      <td>3</td>\n",
       "      <td>0</td>\n",
       "      <td>9357</td>\n",
       "      <td>558</td>\n",
       "      <td>311.900000</td>\n",
       "      <td>25.991667</td>\n",
       "      <td>0</td>\n",
       "    </tr>\n",
       "    <tr>\n",
       "      <th>4</th>\n",
       "      <td>Dominick</td>\n",
       "      <td>1993-04-28</td>\n",
       "      <td>2017-03-10</td>\n",
       "      <td>air steward</td>\n",
       "      <td>177</td>\n",
       "      <td>4</td>\n",
       "      <td>1</td>\n",
       "      <td>9031</td>\n",
       "      <td>314</td>\n",
       "      <td>301.033333</td>\n",
       "      <td>25.086111</td>\n",
       "      <td>5</td>\n",
       "    </tr>\n",
       "  </tbody>\n",
       "</table>\n",
       "</div>"
      ],
      "text/plain": [
       "        name date_of_birth date_of_registration          job  height  \\\n",
       "0     Colton    1991-09-15           2017-09-16       author     179   \n",
       "1      Shaun    1993-01-11           2016-03-10            0     166   \n",
       "2    Emanuel    1995-01-04           2017-10-09            0     175   \n",
       "3  Demetrius    1992-06-06           2016-07-09            0     173   \n",
       "4   Dominick    1993-04-28           2017-03-10  air steward     177   \n",
       "\n",
       "   profile_popularity  liked   Age  Time_In_Badoo  Age_Months  Age_Years  \\\n",
       "0                   0      1  9622            124  320.733333  26.727778   \n",
       "1                   0      1  9138            679  304.600000  25.383333   \n",
       "2                   1      1  8415            101  280.500000  23.375000   \n",
       "3                   3      0  9357            558  311.900000  25.991667   \n",
       "4                   4      1  9031            314  301.033333  25.086111   \n",
       "\n",
       "   job_ID  \n",
       "0       9  \n",
       "1       0  \n",
       "2       0  \n",
       "3       0  \n",
       "4       5  "
      ]
     },
     "execution_count": 261,
     "metadata": {},
     "output_type": "execute_result"
    }
   ],
   "source": [
    "# remove outliers\n",
    "df = df[df['Time_In_Badoo'] <= 1500]\n",
    "df.head()"
   ]
  },
  {
   "cell_type": "code",
   "execution_count": 262,
   "metadata": {},
   "outputs": [
    {
     "data": {
      "text/plain": [
       "<matplotlib.axes._subplots.AxesSubplot at 0x1a247d0f50>"
      ]
     },
     "execution_count": 262,
     "metadata": {},
     "output_type": "execute_result"
    },
    {
     "data": {
      "image/png": "[encoded data removed]",
      "text/plain": [
       "<matplotlib.figure.Figure at 0x1a24939250>"
      ]
     },
     "metadata": {},
     "output_type": "display_data"
    }
   ],
   "source": [
    "sns.violinplot(x=df['liked'],y=df['profile_popularity'],data=df,whis=np.inf)\n",
    "# Here it can be seen that less popular people have liked Paula's profile and more polar people doesn't."
   ]
  },
  {
   "cell_type": "code",
   "execution_count": 263,
   "metadata": {},
   "outputs": [],
   "source": [
    "# creating integers to map jobs\n",
    "job_id = []\n",
    "job_names = []\n",
    "for i, j in enumerate(jobs):\n",
    "    job_id.append(i+1)\n",
    "    job_names.append(j)\n"
   ]
  },
  {
   "cell_type": "code",
   "execution_count": 264,
   "metadata": {
    "collapsed": true
   },
   "outputs": [],
   "source": [
    "from sklearn.preprocessing import LabelEncoder\n",
    "from sklearn.preprocessing import OneHotEncoder\n",
    "from numpy import argmax"
   ]
  },
  {
   "cell_type": "code",
   "execution_count": 265,
   "metadata": {},
   "outputs": [
    {
     "name": "stdout",
     "output_type": "stream",
     "text": [
      "[[ 0.  0.  0. ...,  0.  0.  0.]\n",
      " [ 1.  0.  0. ...,  0.  0.  0.]\n",
      " [ 0.  0.  0. ...,  0.  0.  0.]\n",
      " ..., \n",
      " [ 0.  0.  0. ...,  0.  0.  0.]\n",
      " [ 0.  0.  0. ...,  0.  0.  0.]\n",
      " [ 0.  0.  0. ...,  0.  0.  0.]]\n",
      "['author']\n"
     ]
    }
   ],
   "source": [
    "label_encoder = LabelEncoder()\n",
    "integer_encoded = label_encoder.fit_transform(jobs)\n",
    "job_ID = integer_encoded\n",
    "onehot_encoder = OneHotEncoder(sparse=False)\n",
    "integer_encoded = integer_encoded.reshape(len(integer_encoded), 1)\n",
    "onehot_encoded = onehot_encoder.fit_transform(integer_encoded)\n",
    "print(onehot_encoded)\n",
    "\n",
    "inverted = label_encoder.inverse_transform([argmax(onehot_encoded[0, :])])\n",
    "print(inverted)"
   ]
  },
  {
   "cell_type": "code",
   "execution_count": 266,
   "metadata": {},
   "outputs": [
    {
     "name": "stdout",
     "output_type": "stream",
     "text": [
      "['author' 0 'air steward' 'farmer' 'accountant' 'jeweler' 'vet' 'doctor'\n",
      " 'sailor' 'shop assistant' 'TV cameraman' 'nurse' 'cook' 'actor'\n",
      " 'career counselor' 'porter' 'computer programmer' 'lawyer' 'salesperson'\n",
      " 'printer' 'lecturer' 'travel agent' 'painter' 'professional gambler'\n",
      " 'dentist' 'TV presenter' 'chef' 'photographer' 'head teacher'\n",
      " 'makeup artist' 'scientist' 'company director' 'politician' 'fishmonger'\n",
      " 'film director' 'tailor' 'sign language Interpreter' 'receptionist'\n",
      " 'animator' 'manager' 'puppeteer' 'butcher' 'economist' 'geologist'\n",
      " 'fisherman' 'clerk' 'executive' 'journalist' 'teacher' 'surgeon'\n",
      " 'decorator' 'juggler' 'electrician' 'singer' 'telephonist' 'web designer'\n",
      " 'magician' 'engineer' 'garbage man' 'judge' 'library assistant'\n",
      " 'assistant' 'solicitor' 'director' 'lexicographer' 'pilot' 'musician'\n",
      " 'diplomat' 'civil servant' 'hairdresser' 'plumber' 'miner' 'trucker'\n",
      " 'biologist' 'secretary' 'designer' 'writer' 'architect' 'translator'\n",
      " 'waiter' 'baker' 'caretaker' 'comic book writer' 'soldier' 'editor'\n",
      " 'flight attendant' 'personal assistant' 'police officer' 'builder'\n",
      " 'optician' 'telephone operator' 'prison officer / warder']\n",
      "[ 9  0  5 34  3 43 88 28 71 75  1 56 22  4 14 65 21 47 72 66 48 86 58 68 24\n",
      "  2 16 60 42 52 73 20 64 37 35 81 76 70  6 53 69 13 29 40 36 18 33 44 82 80\n",
      " 23 46 31 77 84 90 51 32 39 45 50  8 79 27 49 61 55 26 17 41 62 54 87 11 74\n",
      " 25 91  7 85 89 10 15 19 78 30 38 59 63 12 57 83 67]\n"
     ]
    }
   ],
   "source": [
    "# map jobs with numeric values and add in a dictionary\n",
    "print jobs\n",
    "print job_ID\n",
    "map_jobs = dict(zip(jobs,job_ID))\n",
    "df['job_ID']=df['job'].map(map_jobs)"
   ]
  },
  {
   "cell_type": "code",
   "execution_count": 267,
   "metadata": {},
   "outputs": [
    {
     "data": {
      "text/html": [
       "<div>\n",
       "<style>\n",
       "    .dataframe thead tr:only-child th {\n",
       "        text-align: right;\n",
       "    }\n",
       "\n",
       "    .dataframe thead th {\n",
       "        text-align: left;\n",
       "    }\n",
       "\n",
       "    .dataframe tbody tr th {\n",
       "        vertical-align: top;\n",
       "    }\n",
       "</style>\n",
       "<table border=\"1\" class=\"dataframe\">\n",
       "  <thead>\n",
       "    <tr style=\"text-align: right;\">\n",
       "      <th></th>\n",
       "      <th>name</th>\n",
       "      <th>date_of_birth</th>\n",
       "      <th>date_of_registration</th>\n",
       "      <th>job</th>\n",
       "      <th>height</th>\n",
       "      <th>profile_popularity</th>\n",
       "      <th>liked</th>\n",
       "      <th>Age</th>\n",
       "      <th>Time_In_Badoo</th>\n",
       "      <th>Age_Months</th>\n",
       "      <th>Age_Years</th>\n",
       "      <th>job_ID</th>\n",
       "    </tr>\n",
       "  </thead>\n",
       "  <tbody>\n",
       "    <tr>\n",
       "      <th>0</th>\n",
       "      <td>Colton</td>\n",
       "      <td>1991-09-15</td>\n",
       "      <td>2017-09-16</td>\n",
       "      <td>author</td>\n",
       "      <td>179</td>\n",
       "      <td>0</td>\n",
       "      <td>1</td>\n",
       "      <td>9622</td>\n",
       "      <td>124</td>\n",
       "      <td>320.733333</td>\n",
       "      <td>26.727778</td>\n",
       "      <td>9</td>\n",
       "    </tr>\n",
       "    <tr>\n",
       "      <th>1</th>\n",
       "      <td>Shaun</td>\n",
       "      <td>1993-01-11</td>\n",
       "      <td>2016-03-10</td>\n",
       "      <td>0</td>\n",
       "      <td>166</td>\n",
       "      <td>0</td>\n",
       "      <td>1</td>\n",
       "      <td>9138</td>\n",
       "      <td>679</td>\n",
       "      <td>304.600000</td>\n",
       "      <td>25.383333</td>\n",
       "      <td>0</td>\n",
       "    </tr>\n",
       "    <tr>\n",
       "      <th>2</th>\n",
       "      <td>Emanuel</td>\n",
       "      <td>1995-01-04</td>\n",
       "      <td>2017-10-09</td>\n",
       "      <td>0</td>\n",
       "      <td>175</td>\n",
       "      <td>1</td>\n",
       "      <td>1</td>\n",
       "      <td>8415</td>\n",
       "      <td>101</td>\n",
       "      <td>280.500000</td>\n",
       "      <td>23.375000</td>\n",
       "      <td>0</td>\n",
       "    </tr>\n",
       "    <tr>\n",
       "      <th>3</th>\n",
       "      <td>Demetrius</td>\n",
       "      <td>1992-06-06</td>\n",
       "      <td>2016-07-09</td>\n",
       "      <td>0</td>\n",
       "      <td>173</td>\n",
       "      <td>3</td>\n",
       "      <td>0</td>\n",
       "      <td>9357</td>\n",
       "      <td>558</td>\n",
       "      <td>311.900000</td>\n",
       "      <td>25.991667</td>\n",
       "      <td>0</td>\n",
       "    </tr>\n",
       "    <tr>\n",
       "      <th>4</th>\n",
       "      <td>Dominick</td>\n",
       "      <td>1993-04-28</td>\n",
       "      <td>2017-03-10</td>\n",
       "      <td>air steward</td>\n",
       "      <td>177</td>\n",
       "      <td>4</td>\n",
       "      <td>1</td>\n",
       "      <td>9031</td>\n",
       "      <td>314</td>\n",
       "      <td>301.033333</td>\n",
       "      <td>25.086111</td>\n",
       "      <td>5</td>\n",
       "    </tr>\n",
       "  </tbody>\n",
       "</table>\n",
       "</div>"
      ],
      "text/plain": [
       "        name date_of_birth date_of_registration          job  height  \\\n",
       "0     Colton    1991-09-15           2017-09-16       author     179   \n",
       "1      Shaun    1993-01-11           2016-03-10            0     166   \n",
       "2    Emanuel    1995-01-04           2017-10-09            0     175   \n",
       "3  Demetrius    1992-06-06           2016-07-09            0     173   \n",
       "4   Dominick    1993-04-28           2017-03-10  air steward     177   \n",
       "\n",
       "   profile_popularity  liked   Age  Time_In_Badoo  Age_Months  Age_Years  \\\n",
       "0                   0      1  9622            124  320.733333  26.727778   \n",
       "1                   0      1  9138            679  304.600000  25.383333   \n",
       "2                   1      1  8415            101  280.500000  23.375000   \n",
       "3                   3      0  9357            558  311.900000  25.991667   \n",
       "4                   4      1  9031            314  301.033333  25.086111   \n",
       "\n",
       "   job_ID  \n",
       "0       9  \n",
       "1       0  \n",
       "2       0  \n",
       "3       0  \n",
       "4       5  "
      ]
     },
     "execution_count": 267,
     "metadata": {},
     "output_type": "execute_result"
    }
   ],
   "source": [
    "df.head()"
   ]
  },
  {
   "cell_type": "code",
   "execution_count": 268,
   "metadata": {},
   "outputs": [
    {
     "data": {
      "text/html": [
       "<div>\n",
       "<style>\n",
       "    .dataframe thead tr:only-child th {\n",
       "        text-align: right;\n",
       "    }\n",
       "\n",
       "    .dataframe thead th {\n",
       "        text-align: left;\n",
       "    }\n",
       "\n",
       "    .dataframe tbody tr th {\n",
       "        vertical-align: top;\n",
       "    }\n",
       "</style>\n",
       "<table border=\"1\" class=\"dataframe\">\n",
       "  <thead>\n",
       "    <tr style=\"text-align: right;\">\n",
       "      <th></th>\n",
       "      <th>height</th>\n",
       "      <th>profile_popularity</th>\n",
       "      <th>Age</th>\n",
       "      <th>Time_In_Badoo</th>\n",
       "      <th>job_ID</th>\n",
       "      <th>liked</th>\n",
       "    </tr>\n",
       "  </thead>\n",
       "  <tbody>\n",
       "    <tr>\n",
       "      <th>0</th>\n",
       "      <td>179</td>\n",
       "      <td>0</td>\n",
       "      <td>9622</td>\n",
       "      <td>124</td>\n",
       "      <td>9</td>\n",
       "      <td>1</td>\n",
       "    </tr>\n",
       "    <tr>\n",
       "      <th>1</th>\n",
       "      <td>166</td>\n",
       "      <td>0</td>\n",
       "      <td>9138</td>\n",
       "      <td>679</td>\n",
       "      <td>0</td>\n",
       "      <td>1</td>\n",
       "    </tr>\n",
       "    <tr>\n",
       "      <th>2</th>\n",
       "      <td>175</td>\n",
       "      <td>1</td>\n",
       "      <td>8415</td>\n",
       "      <td>101</td>\n",
       "      <td>0</td>\n",
       "      <td>1</td>\n",
       "    </tr>\n",
       "    <tr>\n",
       "      <th>3</th>\n",
       "      <td>173</td>\n",
       "      <td>3</td>\n",
       "      <td>9357</td>\n",
       "      <td>558</td>\n",
       "      <td>0</td>\n",
       "      <td>0</td>\n",
       "    </tr>\n",
       "    <tr>\n",
       "      <th>4</th>\n",
       "      <td>177</td>\n",
       "      <td>4</td>\n",
       "      <td>9031</td>\n",
       "      <td>314</td>\n",
       "      <td>5</td>\n",
       "      <td>1</td>\n",
       "    </tr>\n",
       "  </tbody>\n",
       "</table>\n",
       "</div>"
      ],
      "text/plain": [
       "   height  profile_popularity   Age  Time_In_Badoo  job_ID  liked\n",
       "0     179                   0  9622            124       9      1\n",
       "1     166                   0  9138            679       0      1\n",
       "2     175                   1  8415            101       0      1\n",
       "3     173                   3  9357            558       0      0\n",
       "4     177                   4  9031            314       5      1"
      ]
     },
     "execution_count": 268,
     "metadata": {},
     "output_type": "execute_result"
    }
   ],
   "source": [
    "# Creating DF which can be used in models\n",
    "df_model = df[['height','profile_popularity','Age','Time_In_Badoo','job_ID','liked']]\n",
    "df_model.head()"
   ]
  },
  {
   "cell_type": "code",
   "execution_count": 269,
   "metadata": {
    "collapsed": true
   },
   "outputs": [],
   "source": [
    "#Features\n",
    "X_model = df_model.drop('liked',axis=1)\n",
    "#Targets\n",
    "Y_model = df_model.liked"
   ]
  },
  {
   "cell_type": "code",
   "execution_count": 270,
   "metadata": {},
   "outputs": [],
   "source": [
    "from sklearn.cross_validation import train_test_split"
   ]
  },
  {
   "cell_type": "code",
   "execution_count": 271,
   "metadata": {
    "collapsed": true
   },
   "outputs": [],
   "source": [
    "X_train,X_test,Y_train,Y_test = train_test_split(X_model,Y_model,test_size=0.4,random_state=3)"
   ]
  },
  {
   "cell_type": "code",
   "execution_count": 272,
   "metadata": {
    "collapsed": true
   },
   "outputs": [],
   "source": [
    "# Using logistic regression because it outputs values between 0 and 1\n",
    "from sklearn.linear_model import LogisticRegression"
   ]
  },
  {
   "cell_type": "code",
   "execution_count": 273,
   "metadata": {
    "collapsed": true
   },
   "outputs": [],
   "source": [
    "clf = LogisticRegression()"
   ]
  },
  {
   "cell_type": "code",
   "execution_count": 274,
   "metadata": {},
   "outputs": [
    {
     "data": {
      "text/plain": [
       "LogisticRegression(C=1.0, class_weight=None, dual=False, fit_intercept=True,\n",
       "          intercept_scaling=1, max_iter=100, multi_class='ovr', n_jobs=1,\n",
       "          penalty='l2', random_state=None, solver='liblinear', tol=0.0001,\n",
       "          verbose=0, warm_start=False)"
      ]
     },
     "execution_count": 274,
     "metadata": {},
     "output_type": "execute_result"
    }
   ],
   "source": [
    "clf.fit(X_train,Y_train)"
   ]
  },
  {
   "cell_type": "code",
   "execution_count": 275,
   "metadata": {
    "collapsed": true
   },
   "outputs": [],
   "source": [
    "predicted = clf.predict(X_test)\n",
    "expected = Y_test"
   ]
  },
  {
   "cell_type": "code",
   "execution_count": 276,
   "metadata": {
    "collapsed": true
   },
   "outputs": [],
   "source": [
    "from sklearn import metrics"
   ]
  },
  {
   "cell_type": "code",
   "execution_count": 277,
   "metadata": {},
   "outputs": [
    {
     "name": "stdout",
     "output_type": "stream",
     "text": [
      "0.798458817585\n"
     ]
    }
   ],
   "source": [
    "print metrics.accuracy_score(predicted,expected)\n",
    "Logistic_scrore = metrics.accuracy_score(predicted,expected)"
   ]
  },
  {
   "cell_type": "code",
   "execution_count": 278,
   "metadata": {
    "collapsed": true
   },
   "outputs": [],
   "source": [
    "from sklearn.tree import DecisionTreeClassifier"
   ]
  },
  {
   "cell_type": "code",
   "execution_count": 279,
   "metadata": {
    "collapsed": true
   },
   "outputs": [],
   "source": [
    "DT_model = DecisionTreeClassifier()"
   ]
  },
  {
   "cell_type": "code",
   "execution_count": 280,
   "metadata": {},
   "outputs": [
    {
     "data": {
      "text/plain": [
       "DecisionTreeClassifier(class_weight=None, criterion='gini', max_depth=None,\n",
       "            max_features=None, max_leaf_nodes=None,\n",
       "            min_impurity_decrease=0.0, min_impurity_split=None,\n",
       "            min_samples_leaf=1, min_samples_split=2,\n",
       "            min_weight_fraction_leaf=0.0, presort=False, random_state=None,\n",
       "            splitter='best')"
      ]
     },
     "execution_count": 280,
     "metadata": {},
     "output_type": "execute_result"
    }
   ],
   "source": [
    "DT_model.fit(X_train,Y_train)"
   ]
  },
  {
   "cell_type": "code",
   "execution_count": 281,
   "metadata": {},
   "outputs": [
    {
     "name": "stdout",
     "output_type": "stream",
     "text": [
      "0.837973724103\n"
     ]
    }
   ],
   "source": [
    "predicted = DT_model.predict(X_test)\n",
    "expected = Y_test\n",
    "print metrics.accuracy_score(predicted,expected)\n",
    "DT_Score = metrics.accuracy_score(predicted,expected)"
   ]
  },
  {
   "cell_type": "code",
   "execution_count": 282,
   "metadata": {
    "collapsed": true
   },
   "outputs": [],
   "source": [
    "from sklearn.ensemble import RandomForestClassifier\n",
    "\n",
    "clf = RandomForestClassifier(n_estimators=100,random_state=0)"
   ]
  },
  {
   "cell_type": "code",
   "execution_count": 283,
   "metadata": {},
   "outputs": [
    {
     "data": {
      "text/plain": [
       "RandomForestClassifier(bootstrap=True, class_weight=None, criterion='gini',\n",
       "            max_depth=None, max_features='auto', max_leaf_nodes=None,\n",
       "            min_impurity_decrease=0.0, min_impurity_split=None,\n",
       "            min_samples_leaf=1, min_samples_split=2,\n",
       "            min_weight_fraction_leaf=0.0, n_estimators=100, n_jobs=1,\n",
       "            oob_score=False, random_state=0, verbose=0, warm_start=False)"
      ]
     },
     "execution_count": 283,
     "metadata": {},
     "output_type": "execute_result"
    }
   ],
   "source": [
    "clf.fit(X_train,Y_train)"
   ]
  },
  {
   "cell_type": "code",
   "execution_count": 284,
   "metadata": {
    "collapsed": true
   },
   "outputs": [],
   "source": [
    "predicted = clf.predict(X_test)\n",
    "expected = Y_test"
   ]
  },
  {
   "cell_type": "code",
   "execution_count": 285,
   "metadata": {},
   "outputs": [
    {
     "name": "stdout",
     "output_type": "stream",
     "text": [
      "0.906063668519\n"
     ]
    }
   ],
   "source": [
    "print metrics.accuracy_score(predicted,expected)\n",
    "RF_Score = metrics.accuracy_score(predicted,expected)"
   ]
  },
  {
   "cell_type": "code",
   "execution_count": 286,
   "metadata": {},
   "outputs": [],
   "source": [
    "import datetime\n",
    "users_to_predict = pd.DataFrame([('Richard',\n",
    "                                  datetime.date(1994,11,5),\n",
    "                                  datetime.date(2017,10,16),\n",
    "                                      'computer programmer',\n",
    "                                      178,\n",
    "                                      1),\n",
    "                                     ('Thomas',\n",
    "                                      datetime.date(1998, 11, 5),\n",
    "                                      datetime.date(2017, 9, 3),\n",
    "                                      'doctor',\n",
    "                                      172,\n",
    "                                      4),\n",
    "], columns=('name',\n",
    "            'date_of_birth',\n",
    "            'date_of_registration',\n",
    "            'job',\n",
    "            'height',\n",
    "            'profile_popularity'))"
   ]
  },
  {
   "cell_type": "code",
   "execution_count": 287,
   "metadata": {},
   "outputs": [
    {
     "data": {
      "text/html": [
       "<div>\n",
       "<style>\n",
       "    .dataframe thead tr:only-child th {\n",
       "        text-align: right;\n",
       "    }\n",
       "\n",
       "    .dataframe thead th {\n",
       "        text-align: left;\n",
       "    }\n",
       "\n",
       "    .dataframe tbody tr th {\n",
       "        vertical-align: top;\n",
       "    }\n",
       "</style>\n",
       "<table border=\"1\" class=\"dataframe\">\n",
       "  <thead>\n",
       "    <tr style=\"text-align: right;\">\n",
       "      <th></th>\n",
       "      <th>name</th>\n",
       "      <th>date_of_birth</th>\n",
       "      <th>date_of_registration</th>\n",
       "      <th>job</th>\n",
       "      <th>height</th>\n",
       "      <th>profile_popularity</th>\n",
       "    </tr>\n",
       "  </thead>\n",
       "  <tbody>\n",
       "    <tr>\n",
       "      <th>0</th>\n",
       "      <td>Richard</td>\n",
       "      <td>1994-11-05</td>\n",
       "      <td>2017-10-16</td>\n",
       "      <td>computer programmer</td>\n",
       "      <td>178</td>\n",
       "      <td>1</td>\n",
       "    </tr>\n",
       "    <tr>\n",
       "      <th>1</th>\n",
       "      <td>Thomas</td>\n",
       "      <td>1998-11-05</td>\n",
       "      <td>2017-09-03</td>\n",
       "      <td>doctor</td>\n",
       "      <td>172</td>\n",
       "      <td>4</td>\n",
       "    </tr>\n",
       "  </tbody>\n",
       "</table>\n",
       "</div>"
      ],
      "text/plain": [
       "      name date_of_birth date_of_registration                  job  height  \\\n",
       "0  Richard    1994-11-05           2017-10-16  computer programmer     178   \n",
       "1   Thomas    1998-11-05           2017-09-03               doctor     172   \n",
       "\n",
       "   profile_popularity  \n",
       "0                   1  \n",
       "1                   4  "
      ]
     },
     "execution_count": 287,
     "metadata": {},
     "output_type": "execute_result"
    }
   ],
   "source": [
    "users_to_predict"
   ]
  },
  {
   "cell_type": "code",
   "execution_count": 288,
   "metadata": {},
   "outputs": [],
   "source": [
    "import datetime\n",
    "now = datetime.date.today()\n",
    "users_to_predict['Age'] = (now - users_to_predict['date_of_birth']).dt.days\n",
    "users_to_predict['Time_In_Badoo'] = (now - users_to_predict['date_of_registration']).dt.days\n",
    "users_to_predict['job_ID']=users_to_predict['job'].map(map_jobs)"
   ]
  },
  {
   "cell_type": "code",
   "execution_count": 289,
   "metadata": {},
   "outputs": [
    {
     "data": {
      "text/html": [
       "<div>\n",
       "<style>\n",
       "    .dataframe thead tr:only-child th {\n",
       "        text-align: right;\n",
       "    }\n",
       "\n",
       "    .dataframe thead th {\n",
       "        text-align: left;\n",
       "    }\n",
       "\n",
       "    .dataframe tbody tr th {\n",
       "        vertical-align: top;\n",
       "    }\n",
       "</style>\n",
       "<table border=\"1\" class=\"dataframe\">\n",
       "  <thead>\n",
       "    <tr style=\"text-align: right;\">\n",
       "      <th></th>\n",
       "      <th>name</th>\n",
       "      <th>date_of_birth</th>\n",
       "      <th>date_of_registration</th>\n",
       "      <th>job</th>\n",
       "      <th>height</th>\n",
       "      <th>profile_popularity</th>\n",
       "      <th>Age</th>\n",
       "      <th>Time_In_Badoo</th>\n",
       "      <th>job_ID</th>\n",
       "    </tr>\n",
       "  </thead>\n",
       "  <tbody>\n",
       "    <tr>\n",
       "      <th>0</th>\n",
       "      <td>Richard</td>\n",
       "      <td>1994-11-05</td>\n",
       "      <td>2017-10-16</td>\n",
       "      <td>computer programmer</td>\n",
       "      <td>178</td>\n",
       "      <td>1</td>\n",
       "      <td>8475</td>\n",
       "      <td>94</td>\n",
       "      <td>21</td>\n",
       "    </tr>\n",
       "    <tr>\n",
       "      <th>1</th>\n",
       "      <td>Thomas</td>\n",
       "      <td>1998-11-05</td>\n",
       "      <td>2017-09-03</td>\n",
       "      <td>doctor</td>\n",
       "      <td>172</td>\n",
       "      <td>4</td>\n",
       "      <td>7014</td>\n",
       "      <td>137</td>\n",
       "      <td>28</td>\n",
       "    </tr>\n",
       "  </tbody>\n",
       "</table>\n",
       "</div>"
      ],
      "text/plain": [
       "      name date_of_birth date_of_registration                  job  height  \\\n",
       "0  Richard    1994-11-05           2017-10-16  computer programmer     178   \n",
       "1   Thomas    1998-11-05           2017-09-03               doctor     172   \n",
       "\n",
       "   profile_popularity   Age  Time_In_Badoo  job_ID  \n",
       "0                   1  8475             94      21  \n",
       "1                   4  7014            137      28  "
      ]
     },
     "execution_count": 289,
     "metadata": {},
     "output_type": "execute_result"
    }
   ],
   "source": [
    "users_to_predict.head()"
   ]
  },
  {
   "cell_type": "code",
   "execution_count": 290,
   "metadata": {
    "collapsed": true
   },
   "outputs": [],
   "source": [
    "users_to_predict = users_to_predict[['height','profile_popularity','Age','Time_In_Badoo','job_ID']]"
   ]
  },
  {
   "cell_type": "code",
   "execution_count": 291,
   "metadata": {},
   "outputs": [
    {
     "data": {
      "text/plain": [
       "array([1, 0])"
      ]
     },
     "execution_count": 291,
     "metadata": {},
     "output_type": "execute_result"
    }
   ],
   "source": [
    "clf.predict(users_to_predict)\n",
    "# It seems 1st user will like her profile whereas 2nd one won't."
   ]
  },
  {
   "cell_type": "code",
   "execution_count": 292,
   "metadata": {},
   "outputs": [
    {
     "name": "stdout",
     "output_type": "stream",
     "text": [
      "Logistic : 79.85%\n",
      "Decision Tree : 83.80%\n",
      "Randomforest : 90.61%\n"
     ]
    }
   ],
   "source": [
    "# Print scores from various models\n",
    "print \"Logistic : %.2f%%\" %(Logistic_scrore*100)\n",
    "print \"Decision Tree : %.2f%%\" %(DT_Score*100)\n",
    "print \"Randomforest : %.2f%%\" %(RF_Score*100)"
   ]
  },
  {
   "cell_type": "code",
   "execution_count": 293,
   "metadata": {},
   "outputs": [
    {
     "ename": "TypeError",
     "evalue": "All intermediate steps should be transformers and implement fit and transform. 'LogisticRegression(C=1.0, class_weight=None, dual=False, fit_intercept=True,\n          intercept_scaling=1, max_iter=100, multi_class='ovr', n_jobs=1,\n          penalty='l2', random_state=None, solver='liblinear', tol=0.0001,\n          verbose=0, warm_start=False)' (type <class 'sklearn.linear_model.logistic.LogisticRegression'>) doesn't",
     "output_type": "error",
     "traceback": [
      "\u001b[0;31m---------------------------------------------------------------------------\u001b[0m",
      "\u001b[0;31mTypeError\u001b[0m                                 Traceback (most recent call last)",
      "\u001b[0;32m<ipython-input-293-5a7ee08d0715>\u001b[0m in \u001b[0;36m<module>\u001b[0;34m()\u001b[0m\n\u001b[1;32m      4\u001b[0m     \u001b[0;34m(\u001b[0m\u001b[0;34m'logistic'\u001b[0m\u001b[0;34m,\u001b[0m\u001b[0mLogisticRegression\u001b[0m\u001b[0;34m(\u001b[0m\u001b[0;34m)\u001b[0m\u001b[0;34m)\u001b[0m\u001b[0;34m,\u001b[0m\u001b[0;34m\u001b[0m\u001b[0m\n\u001b[1;32m      5\u001b[0m     \u001b[0;34m(\u001b[0m\u001b[0;34m'DT'\u001b[0m\u001b[0;34m,\u001b[0m\u001b[0mDecisionTreeClassifier\u001b[0m\u001b[0;34m(\u001b[0m\u001b[0;34m)\u001b[0m\u001b[0;34m)\u001b[0m\u001b[0;34m,\u001b[0m\u001b[0;34m\u001b[0m\u001b[0m\n\u001b[0;32m----> 6\u001b[0;31m     \u001b[0;34m(\u001b[0m\u001b[0;34m'RF'\u001b[0m\u001b[0;34m,\u001b[0m\u001b[0mRandomForestClassifier\u001b[0m\u001b[0;34m(\u001b[0m\u001b[0mn_estimators\u001b[0m\u001b[0;34m=\u001b[0m\u001b[0;36m100\u001b[0m\u001b[0;34m,\u001b[0m\u001b[0mrandom_state\u001b[0m\u001b[0;34m=\u001b[0m\u001b[0;36m0\u001b[0m\u001b[0;34m)\u001b[0m\u001b[0;34m)\u001b[0m\u001b[0;34m,\u001b[0m\u001b[0;34m\u001b[0m\u001b[0m\n\u001b[0m\u001b[1;32m      7\u001b[0m ])\n",
      "\u001b[0;32m/Users/mithleshpatel/anaconda2/lib/python2.7/site-packages/sklearn/pipeline.pyc\u001b[0m in \u001b[0;36m__init__\u001b[0;34m(self, steps, memory)\u001b[0m\n\u001b[1;32m    112\u001b[0m     \u001b[0;32mdef\u001b[0m \u001b[0m__init__\u001b[0m\u001b[0;34m(\u001b[0m\u001b[0mself\u001b[0m\u001b[0;34m,\u001b[0m \u001b[0msteps\u001b[0m\u001b[0;34m,\u001b[0m \u001b[0mmemory\u001b[0m\u001b[0;34m=\u001b[0m\u001b[0mNone\u001b[0m\u001b[0;34m)\u001b[0m\u001b[0;34m:\u001b[0m\u001b[0;34m\u001b[0m\u001b[0m\n\u001b[1;32m    113\u001b[0m         \u001b[0mself\u001b[0m\u001b[0;34m.\u001b[0m\u001b[0msteps\u001b[0m \u001b[0;34m=\u001b[0m \u001b[0msteps\u001b[0m\u001b[0;34m\u001b[0m\u001b[0m\n\u001b[0;32m--> 114\u001b[0;31m         \u001b[0mself\u001b[0m\u001b[0;34m.\u001b[0m\u001b[0m_validate_steps\u001b[0m\u001b[0;34m(\u001b[0m\u001b[0;34m)\u001b[0m\u001b[0;34m\u001b[0m\u001b[0m\n\u001b[0m\u001b[1;32m    115\u001b[0m         \u001b[0mself\u001b[0m\u001b[0;34m.\u001b[0m\u001b[0mmemory\u001b[0m \u001b[0;34m=\u001b[0m \u001b[0mmemory\u001b[0m\u001b[0;34m\u001b[0m\u001b[0m\n\u001b[1;32m    116\u001b[0m \u001b[0;34m\u001b[0m\u001b[0m\n",
      "\u001b[0;32m/Users/mithleshpatel/anaconda2/lib/python2.7/site-packages/sklearn/pipeline.pyc\u001b[0m in \u001b[0;36m_validate_steps\u001b[0;34m(self)\u001b[0m\n\u001b[1;32m    160\u001b[0m                 raise TypeError(\"All intermediate steps should be \"\n\u001b[1;32m    161\u001b[0m                                 \u001b[0;34m\"transformers and implement fit and transform.\"\u001b[0m\u001b[0;34m\u001b[0m\u001b[0m\n\u001b[0;32m--> 162\u001b[0;31m                                 \" '%s' (type %s) doesn't\" % (t, type(t)))\n\u001b[0m\u001b[1;32m    163\u001b[0m \u001b[0;34m\u001b[0m\u001b[0m\n\u001b[1;32m    164\u001b[0m         \u001b[0;31m# We allow last estimator to be None as an identity transformation\u001b[0m\u001b[0;34m\u001b[0m\u001b[0;34m\u001b[0m\u001b[0m\n",
      "\u001b[0;31mTypeError\u001b[0m: All intermediate steps should be transformers and implement fit and transform. 'LogisticRegression(C=1.0, class_weight=None, dual=False, fit_intercept=True,\n          intercept_scaling=1, max_iter=100, multi_class='ovr', n_jobs=1,\n          penalty='l2', random_state=None, solver='liblinear', tol=0.0001,\n          verbose=0, warm_start=False)' (type <class 'sklearn.linear_model.logistic.LogisticRegression'>) doesn't"
     ]
    }
   ],
   "source": [
    "#It seems random forest is providing better results and can be used in production.\n",
    "from sklearn.pipeline import Pipeline\n",
    "pipeline = Pipeline([\n",
    "    ('logistic',LogisticRegression()),\n",
    "    ('DT',DecisionTreeClassifier()),\n",
    "    ('RF',RandomForestClassifier(n_estimators=100,random_state=0)),\n",
    "])"
   ]
  }
 ],
 "metadata": {
  "kernelspec": {
   "display_name": "Python 2",
   "language": "python",
   "name": "python2"
  },
  "language_info": {
   "codemirror_mode": {
    "name": "ipython",
    "version": 2
   },
   "file_extension": ".py",
   "mimetype": "text/x-python",
   "name": "python",
   "nbconvert_exporter": "python",
   "pygments_lexer": "ipython2",
   "version": "2.7.14"
  }
 },
 "nbformat": 4,
 "nbformat_minor": 2
}
